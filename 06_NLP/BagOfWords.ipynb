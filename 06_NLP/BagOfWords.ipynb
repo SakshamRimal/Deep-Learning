{
  "nbformat": 4,
  "nbformat_minor": 0,
  "metadata": {
    "colab": {
      "provenance": [],
      "authorship_tag": "ABX9TyPAfWh5hQqXj5DJoL8qYkIf",
      "include_colab_link": true
    },
    "kernelspec": {
      "name": "python3",
      "display_name": "Python 3"
    },
    "language_info": {
      "name": "python"
    }
  },
  "cells": [
    {
      "cell_type": "markdown",
      "metadata": {
        "id": "view-in-github",
        "colab_type": "text"
      },
      "source": [
        "<a href=\"https://colab.research.google.com/github/SakshamRimal/Deep-Learning/blob/main/06_NLP/BagOfWords.ipynb\" target=\"_parent\"><img src=\"https://colab.research.google.com/assets/colab-badge.svg\" alt=\"Open In Colab\"/></a>"
      ]
    },
    {
      "cell_type": "code",
      "execution_count": 3,
      "metadata": {
        "id": "_OIfhwssdpXU"
      },
      "outputs": [],
      "source": [
        "paragraph = \"\"\"\n",
        "Virat Kohli (born 5 November 1988) Hindi pronunciation: [ʋɪˈɾaːʈᵊ ˈkoːɦᵊliː] ⓘ is an Indian international cricketer and the former captain of the Indian national cricket team. He is a right-handed batsman and an occasional medium-fast bowler. He currently represents Royal Challengers Bengaluru in the IPL and Delhi in domestic cricket. Kohli is widely regarded as one of the greatest batters of all time.[3] He also holds the record for scoring the most centuries in ODI cricket and stands second in the list of most international centuries scored, and is highest run-scorer in IPL. Kohli was a member of the Indian team that won the 2011 Cricket World Cup, 2013 ICC Champions Trophy, 2024 T20 World Cup and 2025 Champions Trophy. Further captained India to win the ICC Test mace three consecutive times in 2017, 2018, and 2019.\n",
        "\n",
        "In 2013, Kohli was ranked number one in the ICC rankings for ODI batsmen. In 2015, he achieved the summit of T20I rankings. In 2018, he was ranked top Test batsman, making him the only Indian cricketer to hold the number one spot in all three formats of the game. He is the first player to score 20,000 runs in a decade. In 2020, the International Cricket Council named him the male cricketer of the decade.\n",
        "\"\"\""
      ]
    },
    {
      "cell_type": "code",
      "source": [
        "paragraph"
      ],
      "metadata": {
        "colab": {
          "base_uri": "https://localhost:8080/",
          "height": 125
        },
        "id": "80kFiiqpeORu",
        "outputId": "5b8ac50c-06a4-4aa9-8c81-cc96e826841c"
      },
      "execution_count": 4,
      "outputs": [
        {
          "output_type": "execute_result",
          "data": {
            "text/plain": [
              "'\\nVirat Kohli (born 5 November 1988) Hindi pronunciation: [ʋɪˈɾaːʈᵊ ˈkoːɦᵊliː] ⓘ is an Indian international cricketer and the former captain of the Indian national cricket team. He is a right-handed batsman and an occasional medium-fast bowler. He currently represents Royal Challengers Bengaluru in the IPL and Delhi in domestic cricket. Kohli is widely regarded as one of the greatest batters of all time.[3] He also holds the record for scoring the most centuries in ODI cricket and stands second in the list of most international centuries scored, and is highest run-scorer in IPL. Kohli was a member of the Indian team that won the 2011 Cricket World Cup, 2013 ICC Champions Trophy, 2024 T20 World Cup and 2025 Champions Trophy. Further captained India to win the ICC Test mace three consecutive times in 2017, 2018, and 2019.\\n\\nIn 2013, Kohli was ranked number one in the ICC rankings for ODI batsmen. In 2015, he achieved the summit of T20I rankings. In 2018, he was ranked top Test batsman, making him the only Indian cricketer to hold the number one spot in all three formats of the game. He is the first player to score 20,000 runs in a decade. In 2020, the International Cricket Council named him the male cricketer of the decade. \\n'"
            ],
            "application/vnd.google.colaboratory.intrinsic+json": {
              "type": "string"
            }
          },
          "metadata": {},
          "execution_count": 4
        }
      ]
    },
    {
      "cell_type": "code",
      "source": [
        "import nltk\n",
        "from nltk.stem import PorterStemmer\n",
        "from nltk.corpus import stopwords\n"
      ],
      "metadata": {
        "id": "_qz_rQkfeoRv"
      },
      "execution_count": 5,
      "outputs": []
    },
    {
      "cell_type": "code",
      "source": [
        "## tokenization - converts paragraph into sentences and focus on words\n",
        "nltk.download('punkt_tab')\n",
        "sentences = nltk.sent_tokenize(paragraph)"
      ],
      "metadata": {
        "colab": {
          "base_uri": "https://localhost:8080/"
        },
        "id": "w9xKgd2pe1JA",
        "outputId": "0ce13d22-f78c-4ac9-d6d1-dc9554238328"
      },
      "execution_count": 9,
      "outputs": [
        {
          "output_type": "stream",
          "name": "stderr",
          "text": [
            "[nltk_data] Downloading package punkt_tab to /root/nltk_data...\n",
            "[nltk_data]   Package punkt_tab is already up-to-date!\n"
          ]
        }
      ]
    },
    {
      "cell_type": "code",
      "source": [
        "sentences"
      ],
      "metadata": {
        "colab": {
          "base_uri": "https://localhost:8080/"
        },
        "id": "S4GQUYQTe-Nc",
        "outputId": "63a0298d-87f2-4c3c-e59f-23a994a52c9d"
      },
      "execution_count": 11,
      "outputs": [
        {
          "output_type": "execute_result",
          "data": {
            "text/plain": [
              "['\\nVirat Kohli (born 5 November 1988) Hindi pronunciation: [ʋɪˈɾaːʈᵊ ˈkoːɦᵊliː] ⓘ is an Indian international cricketer and the former captain of the Indian national cricket team.',\n",
              " 'He is a right-handed batsman and an occasional medium-fast bowler.',\n",
              " 'He currently represents Royal Challengers Bengaluru in the IPL and Delhi in domestic cricket.',\n",
              " 'Kohli is widely regarded as one of the greatest batters of all time.',\n",
              " '[3] He also holds the record for scoring the most centuries in ODI cricket and stands second in the list of most international centuries scored, and is highest run-scorer in IPL.',\n",
              " 'Kohli was a member of the Indian team that won the 2011 Cricket World Cup, 2013 ICC Champions Trophy, 2024 T20 World Cup and 2025 Champions Trophy.',\n",
              " 'Further captained India to win the ICC Test mace three consecutive times in 2017, 2018, and 2019.',\n",
              " 'In 2013, Kohli was ranked number one in the ICC rankings for ODI batsmen.',\n",
              " 'In 2015, he achieved the summit of T20I rankings.',\n",
              " 'In 2018, he was ranked top Test batsman, making him the only Indian cricketer to hold the number one spot in all three formats of the game.',\n",
              " 'He is the first player to score 20,000 runs in a decade.',\n",
              " 'In 2020, the International Cricket Council named him the male cricketer of the decade.']"
            ]
          },
          "metadata": {},
          "execution_count": 11
        }
      ]
    },
    {
      "cell_type": "code",
      "source": [
        "stemmer = PorterStemmer()"
      ],
      "metadata": {
        "id": "BGJQxsaufOIi"
      },
      "execution_count": 13,
      "outputs": []
    },
    {
      "cell_type": "code",
      "source": [
        "stemmer.stem('history')"
      ],
      "metadata": {
        "colab": {
          "base_uri": "https://localhost:8080/",
          "height": 35
        },
        "id": "PcOEeLzMfgCK",
        "outputId": "27ae27b8-1d7b-4eab-caf7-f4f4beb94f93"
      },
      "execution_count": 15,
      "outputs": [
        {
          "output_type": "execute_result",
          "data": {
            "text/plain": [
              "'histori'"
            ],
            "application/vnd.google.colaboratory.intrinsic+json": {
              "type": "string"
            }
          },
          "metadata": {},
          "execution_count": 15
        }
      ]
    },
    {
      "cell_type": "code",
      "source": [
        "from nltk.stem import WordNetLemmatizer\n",
        "import nltk\n",
        "nltk.download('wordnet')\n",
        "\n"
      ],
      "metadata": {
        "colab": {
          "base_uri": "https://localhost:8080/"
        },
        "id": "89izR8L5fjBy",
        "outputId": "29bed050-b828-4d57-dd28-50f13154f2ac"
      },
      "execution_count": 26,
      "outputs": [
        {
          "output_type": "stream",
          "name": "stderr",
          "text": [
            "[nltk_data] Downloading package wordnet to /root/nltk_data...\n",
            "[nltk_data]   Package wordnet is already up-to-date!\n"
          ]
        },
        {
          "output_type": "execute_result",
          "data": {
            "text/plain": [
              "True"
            ]
          },
          "metadata": {},
          "execution_count": 26
        }
      ]
    },
    {
      "cell_type": "code",
      "source": [
        "lemmatizer = WordNetLemmatizer()"
      ],
      "metadata": {
        "id": "k6eh4IqFfsND"
      },
      "execution_count": 27,
      "outputs": []
    },
    {
      "cell_type": "code",
      "source": [
        "lemmatizer.lemmatize('history')\n"
      ],
      "metadata": {
        "colab": {
          "base_uri": "https://localhost:8080/",
          "height": 35
        },
        "id": "1I9m1eL5gCOl",
        "outputId": "0d07ecb8-2340-4694-ab1f-a69e24941a4f"
      },
      "execution_count": 28,
      "outputs": [
        {
          "output_type": "execute_result",
          "data": {
            "text/plain": [
              "'history'"
            ],
            "application/vnd.google.colaboratory.intrinsic+json": {
              "type": "string"
            }
          },
          "metadata": {},
          "execution_count": 28
        }
      ]
    },
    {
      "cell_type": "code",
      "source": [
        "nltk.download('stopwords')"
      ],
      "metadata": {
        "colab": {
          "base_uri": "https://localhost:8080/"
        },
        "id": "WePqwpkciGv4",
        "outputId": "0e94179b-b423-4e50-879f-2f47b2e630f0"
      },
      "execution_count": 33,
      "outputs": [
        {
          "output_type": "stream",
          "name": "stderr",
          "text": [
            "[nltk_data] Downloading package stopwords to /root/nltk_data...\n",
            "[nltk_data]   Unzipping corpora/stopwords.zip.\n"
          ]
        },
        {
          "output_type": "execute_result",
          "data": {
            "text/plain": [
              "True"
            ]
          },
          "metadata": {},
          "execution_count": 33
        }
      ]
    },
    {
      "cell_type": "code",
      "source": [
        "import re\n",
        "corpus = []\n",
        "for i in range(len(sentences)):\n",
        "  review = re.sub('[^a-zA-Z]', ' ', sentences[i])\n",
        "  review = review.lower()\n",
        "  corpus.append(review)\n",
        ""
      ],
      "metadata": {
        "id": "UXHbyvmCgGIC"
      },
      "execution_count": 34,
      "outputs": []
    },
    {
      "cell_type": "code",
      "source": [
        "corpus\n"
      ],
      "metadata": {
        "colab": {
          "base_uri": "https://localhost:8080/"
        },
        "id": "wqGmIW5ihTCs",
        "outputId": "6584f8d1-f7a5-4451-e44a-9d557fa3a9b2"
      },
      "execution_count": 35,
      "outputs": [
        {
          "output_type": "execute_result",
          "data": {
            "text/plain": [
              "[' virat kohli  born   november       hindi pronunciation       a     ko   li     is an indian international cricketer and the former captain of the indian national cricket team ',\n",
              " 'he is a right handed batsman and an occasional medium fast bowler ',\n",
              " 'he currently represents royal challengers bengaluru in the ipl and delhi in domestic cricket ',\n",
              " 'kohli is widely regarded as one of the greatest batters of all time ',\n",
              " '    he also holds the record for scoring the most centuries in odi cricket and stands second in the list of most international centuries scored  and is highest run scorer in ipl ',\n",
              " 'kohli was a member of the indian team that won the      cricket world cup       icc champions trophy       t   world cup and      champions trophy ',\n",
              " 'further captained india to win the icc test mace three consecutive times in             and      ',\n",
              " 'in       kohli was ranked number one in the icc rankings for odi batsmen ',\n",
              " 'in       he achieved the summit of t  i rankings ',\n",
              " 'in       he was ranked top test batsman  making him the only indian cricketer to hold the number one spot in all three formats of the game ',\n",
              " 'he is the first player to score        runs in a decade ',\n",
              " 'in       the international cricket council named him the male cricketer of the decade ']"
            ]
          },
          "metadata": {},
          "execution_count": 35
        }
      ]
    },
    {
      "cell_type": "code",
      "source": [
        "stopwords.words('english')"
      ],
      "metadata": {
        "colab": {
          "base_uri": "https://localhost:8080/"
        },
        "id": "8ZQv_sxIiQiE",
        "outputId": "9d6e2c3a-55b1-4b38-db08-fa6a73111970"
      },
      "execution_count": 37,
      "outputs": [
        {
          "output_type": "execute_result",
          "data": {
            "text/plain": [
              "['a',\n",
              " 'about',\n",
              " 'above',\n",
              " 'after',\n",
              " 'again',\n",
              " 'against',\n",
              " 'ain',\n",
              " 'all',\n",
              " 'am',\n",
              " 'an',\n",
              " 'and',\n",
              " 'any',\n",
              " 'are',\n",
              " 'aren',\n",
              " \"aren't\",\n",
              " 'as',\n",
              " 'at',\n",
              " 'be',\n",
              " 'because',\n",
              " 'been',\n",
              " 'before',\n",
              " 'being',\n",
              " 'below',\n",
              " 'between',\n",
              " 'both',\n",
              " 'but',\n",
              " 'by',\n",
              " 'can',\n",
              " 'couldn',\n",
              " \"couldn't\",\n",
              " 'd',\n",
              " 'did',\n",
              " 'didn',\n",
              " \"didn't\",\n",
              " 'do',\n",
              " 'does',\n",
              " 'doesn',\n",
              " \"doesn't\",\n",
              " 'doing',\n",
              " 'don',\n",
              " \"don't\",\n",
              " 'down',\n",
              " 'during',\n",
              " 'each',\n",
              " 'few',\n",
              " 'for',\n",
              " 'from',\n",
              " 'further',\n",
              " 'had',\n",
              " 'hadn',\n",
              " \"hadn't\",\n",
              " 'has',\n",
              " 'hasn',\n",
              " \"hasn't\",\n",
              " 'have',\n",
              " 'haven',\n",
              " \"haven't\",\n",
              " 'having',\n",
              " 'he',\n",
              " \"he'd\",\n",
              " \"he'll\",\n",
              " 'her',\n",
              " 'here',\n",
              " 'hers',\n",
              " 'herself',\n",
              " \"he's\",\n",
              " 'him',\n",
              " 'himself',\n",
              " 'his',\n",
              " 'how',\n",
              " 'i',\n",
              " \"i'd\",\n",
              " 'if',\n",
              " \"i'll\",\n",
              " \"i'm\",\n",
              " 'in',\n",
              " 'into',\n",
              " 'is',\n",
              " 'isn',\n",
              " \"isn't\",\n",
              " 'it',\n",
              " \"it'd\",\n",
              " \"it'll\",\n",
              " \"it's\",\n",
              " 'its',\n",
              " 'itself',\n",
              " \"i've\",\n",
              " 'just',\n",
              " 'll',\n",
              " 'm',\n",
              " 'ma',\n",
              " 'me',\n",
              " 'mightn',\n",
              " \"mightn't\",\n",
              " 'more',\n",
              " 'most',\n",
              " 'mustn',\n",
              " \"mustn't\",\n",
              " 'my',\n",
              " 'myself',\n",
              " 'needn',\n",
              " \"needn't\",\n",
              " 'no',\n",
              " 'nor',\n",
              " 'not',\n",
              " 'now',\n",
              " 'o',\n",
              " 'of',\n",
              " 'off',\n",
              " 'on',\n",
              " 'once',\n",
              " 'only',\n",
              " 'or',\n",
              " 'other',\n",
              " 'our',\n",
              " 'ours',\n",
              " 'ourselves',\n",
              " 'out',\n",
              " 'over',\n",
              " 'own',\n",
              " 're',\n",
              " 's',\n",
              " 'same',\n",
              " 'shan',\n",
              " \"shan't\",\n",
              " 'she',\n",
              " \"she'd\",\n",
              " \"she'll\",\n",
              " \"she's\",\n",
              " 'should',\n",
              " 'shouldn',\n",
              " \"shouldn't\",\n",
              " \"should've\",\n",
              " 'so',\n",
              " 'some',\n",
              " 'such',\n",
              " 't',\n",
              " 'than',\n",
              " 'that',\n",
              " \"that'll\",\n",
              " 'the',\n",
              " 'their',\n",
              " 'theirs',\n",
              " 'them',\n",
              " 'themselves',\n",
              " 'then',\n",
              " 'there',\n",
              " 'these',\n",
              " 'they',\n",
              " \"they'd\",\n",
              " \"they'll\",\n",
              " \"they're\",\n",
              " \"they've\",\n",
              " 'this',\n",
              " 'those',\n",
              " 'through',\n",
              " 'to',\n",
              " 'too',\n",
              " 'under',\n",
              " 'until',\n",
              " 'up',\n",
              " 've',\n",
              " 'very',\n",
              " 'was',\n",
              " 'wasn',\n",
              " \"wasn't\",\n",
              " 'we',\n",
              " \"we'd\",\n",
              " \"we'll\",\n",
              " \"we're\",\n",
              " 'were',\n",
              " 'weren',\n",
              " \"weren't\",\n",
              " \"we've\",\n",
              " 'what',\n",
              " 'when',\n",
              " 'where',\n",
              " 'which',\n",
              " 'while',\n",
              " 'who',\n",
              " 'whom',\n",
              " 'why',\n",
              " 'will',\n",
              " 'with',\n",
              " 'won',\n",
              " \"won't\",\n",
              " 'wouldn',\n",
              " \"wouldn't\",\n",
              " 'y',\n",
              " 'you',\n",
              " \"you'd\",\n",
              " \"you'll\",\n",
              " 'your',\n",
              " \"you're\",\n",
              " 'yours',\n",
              " 'yourself',\n",
              " 'yourselves',\n",
              " \"you've\"]"
            ]
          },
          "metadata": {},
          "execution_count": 37
        }
      ]
    },
    {
      "cell_type": "code",
      "source": [
        "## apply stemming\n",
        "for i in corpus:\n",
        "  words = nltk.word_tokenize(i)\n",
        "  for word in words:\n",
        "    if word not in set(stopwords.words('english')):\n",
        "      print(stemmer.stem(word))\n"
      ],
      "metadata": {
        "colab": {
          "base_uri": "https://localhost:8080/"
        },
        "id": "EZwzpHSrhUQp",
        "outputId": "928a1d4c-cd12-4618-ccdc-f0ecec22fd90"
      },
      "execution_count": 36,
      "outputs": [
        {
          "output_type": "stream",
          "name": "stdout",
          "text": [
            "virat\n",
            "kohli\n",
            "born\n",
            "novemb\n",
            "hindi\n",
            "pronunci\n",
            "ko\n",
            "li\n",
            "indian\n",
            "intern\n",
            "cricket\n",
            "former\n",
            "captain\n",
            "indian\n",
            "nation\n",
            "cricket\n",
            "team\n",
            "right\n",
            "hand\n",
            "batsman\n",
            "occasion\n",
            "medium\n",
            "fast\n",
            "bowler\n",
            "current\n",
            "repres\n",
            "royal\n",
            "challeng\n",
            "bengaluru\n",
            "ipl\n",
            "delhi\n",
            "domest\n",
            "cricket\n",
            "kohli\n",
            "wide\n",
            "regard\n",
            "one\n",
            "greatest\n",
            "batter\n",
            "time\n",
            "also\n",
            "hold\n",
            "record\n",
            "score\n",
            "centuri\n",
            "odi\n",
            "cricket\n",
            "stand\n",
            "second\n",
            "list\n",
            "intern\n",
            "centuri\n",
            "score\n",
            "highest\n",
            "run\n",
            "scorer\n",
            "ipl\n",
            "kohli\n",
            "member\n",
            "indian\n",
            "team\n",
            "cricket\n",
            "world\n",
            "cup\n",
            "icc\n",
            "champion\n",
            "trophi\n",
            "world\n",
            "cup\n",
            "champion\n",
            "trophi\n",
            "captain\n",
            "india\n",
            "win\n",
            "icc\n",
            "test\n",
            "mace\n",
            "three\n",
            "consecut\n",
            "time\n",
            "kohli\n",
            "rank\n",
            "number\n",
            "one\n",
            "icc\n",
            "rank\n",
            "odi\n",
            "batsmen\n",
            "achiev\n",
            "summit\n",
            "rank\n",
            "rank\n",
            "top\n",
            "test\n",
            "batsman\n",
            "make\n",
            "indian\n",
            "cricket\n",
            "hold\n",
            "number\n",
            "one\n",
            "spot\n",
            "three\n",
            "format\n",
            "game\n",
            "first\n",
            "player\n",
            "score\n",
            "run\n",
            "decad\n",
            "intern\n",
            "cricket\n",
            "council\n",
            "name\n",
            "male\n",
            "cricket\n",
            "decad\n"
          ]
        }
      ]
    },
    {
      "cell_type": "code",
      "source": [
        "## apply lemmatization\n",
        "for i in corpus:\n",
        "  words = nltk.word_tokenize(i)\n",
        "  for word in words:\n",
        "    if word not in set(stopwords.words('english')):\n",
        "      print(lemmatizer.lemmatize(word))"
      ],
      "metadata": {
        "colab": {
          "base_uri": "https://localhost:8080/"
        },
        "id": "2sx_tz7WhalR",
        "outputId": "1d228dec-913f-487f-ce9b-bbeb495c9500"
      },
      "execution_count": 38,
      "outputs": [
        {
          "output_type": "stream",
          "name": "stdout",
          "text": [
            "virat\n",
            "kohli\n",
            "born\n",
            "november\n",
            "hindi\n",
            "pronunciation\n",
            "ko\n",
            "li\n",
            "indian\n",
            "international\n",
            "cricketer\n",
            "former\n",
            "captain\n",
            "indian\n",
            "national\n",
            "cricket\n",
            "team\n",
            "right\n",
            "handed\n",
            "batsman\n",
            "occasional\n",
            "medium\n",
            "fast\n",
            "bowler\n",
            "currently\n",
            "represents\n",
            "royal\n",
            "challenger\n",
            "bengaluru\n",
            "ipl\n",
            "delhi\n",
            "domestic\n",
            "cricket\n",
            "kohli\n",
            "widely\n",
            "regarded\n",
            "one\n",
            "greatest\n",
            "batter\n",
            "time\n",
            "also\n",
            "hold\n",
            "record\n",
            "scoring\n",
            "century\n",
            "odi\n",
            "cricket\n",
            "stand\n",
            "second\n",
            "list\n",
            "international\n",
            "century\n",
            "scored\n",
            "highest\n",
            "run\n",
            "scorer\n",
            "ipl\n",
            "kohli\n",
            "member\n",
            "indian\n",
            "team\n",
            "cricket\n",
            "world\n",
            "cup\n",
            "icc\n",
            "champion\n",
            "trophy\n",
            "world\n",
            "cup\n",
            "champion\n",
            "trophy\n",
            "captained\n",
            "india\n",
            "win\n",
            "icc\n",
            "test\n",
            "mace\n",
            "three\n",
            "consecutive\n",
            "time\n",
            "kohli\n",
            "ranked\n",
            "number\n",
            "one\n",
            "icc\n",
            "ranking\n",
            "odi\n",
            "batsman\n",
            "achieved\n",
            "summit\n",
            "ranking\n",
            "ranked\n",
            "top\n",
            "test\n",
            "batsman\n",
            "making\n",
            "indian\n",
            "cricketer\n",
            "hold\n",
            "number\n",
            "one\n",
            "spot\n",
            "three\n",
            "format\n",
            "game\n",
            "first\n",
            "player\n",
            "score\n",
            "run\n",
            "decade\n",
            "international\n",
            "cricket\n",
            "council\n",
            "named\n",
            "male\n",
            "cricketer\n",
            "decade\n"
          ]
        }
      ]
    },
    {
      "cell_type": "code",
      "source": [
        "from sklearn.feature_extraction.text import CountVectorizer\n",
        "\n",
        "cv = CountVectorizer(binary=True)\n",
        "X = cv.fit_transform(corpus)\n"
      ],
      "metadata": {
        "id": "tzUnzAlrikmm"
      },
      "execution_count": 47,
      "outputs": []
    },
    {
      "cell_type": "code",
      "source": [
        "cv.vocabulary_"
      ],
      "metadata": {
        "colab": {
          "base_uri": "https://localhost:8080/"
        },
        "id": "vb2uF77eizOl",
        "outputId": "6d8271df-4080-4dcd-b5a5-ce53f3eddefb"
      },
      "execution_count": 48,
      "outputs": [
        {
          "output_type": "execute_result",
          "data": {
            "text/plain": [
              "{'virat': 96,\n",
              " 'kohli': 49,\n",
              " 'born': 10,\n",
              " 'november': 60,\n",
              " 'hindi': 38,\n",
              " 'pronunciation': 68,\n",
              " 'ko': 48,\n",
              " 'li': 50,\n",
              " 'is': 47,\n",
              " 'an': 3,\n",
              " 'indian': 44,\n",
              " 'international': 45,\n",
              " 'cricketer': 20,\n",
              " 'and': 4,\n",
              " 'the': 89,\n",
              " 'former': 30,\n",
              " 'captain': 12,\n",
              " 'of': 64,\n",
              " 'national': 59,\n",
              " 'cricket': 19,\n",
              " 'team': 86,\n",
              " 'he': 35,\n",
              " 'right': 74,\n",
              " 'handed': 34,\n",
              " 'batsman': 6,\n",
              " 'occasional': 62,\n",
              " 'medium': 55,\n",
              " 'fast': 26,\n",
              " 'bowler': 11,\n",
              " 'currently': 22,\n",
              " 'represents': 73,\n",
              " 'royal': 75,\n",
              " 'challengers': 15,\n",
              " 'bengaluru': 9,\n",
              " 'in': 42,\n",
              " 'ipl': 46,\n",
              " 'delhi': 24,\n",
              " 'domestic': 25,\n",
              " 'widely': 98,\n",
              " 'regarded': 72,\n",
              " 'as': 5,\n",
              " 'one': 65,\n",
              " 'greatest': 33,\n",
              " 'batters': 8,\n",
              " 'all': 1,\n",
              " 'time': 91,\n",
              " 'also': 2,\n",
              " 'holds': 40,\n",
              " 'record': 71,\n",
              " 'for': 28,\n",
              " 'scoring': 81,\n",
              " 'most': 57,\n",
              " 'centuries': 14,\n",
              " 'odi': 63,\n",
              " 'stands': 84,\n",
              " 'second': 82,\n",
              " 'list': 51,\n",
              " 'scored': 79,\n",
              " 'highest': 36,\n",
              " 'run': 76,\n",
              " 'scorer': 80,\n",
              " 'was': 97,\n",
              " 'member': 56,\n",
              " 'that': 88,\n",
              " 'won': 100,\n",
              " 'world': 101,\n",
              " 'cup': 21,\n",
              " 'icc': 41,\n",
              " 'champions': 16,\n",
              " 'trophy': 95,\n",
              " 'further': 31,\n",
              " 'captained': 13,\n",
              " 'india': 43,\n",
              " 'to': 93,\n",
              " 'win': 99,\n",
              " 'test': 87,\n",
              " 'mace': 52,\n",
              " 'three': 90,\n",
              " 'consecutive': 17,\n",
              " 'times': 92,\n",
              " 'ranked': 69,\n",
              " 'number': 61,\n",
              " 'rankings': 70,\n",
              " 'batsmen': 7,\n",
              " 'achieved': 0,\n",
              " 'summit': 85,\n",
              " 'top': 94,\n",
              " 'making': 53,\n",
              " 'him': 37,\n",
              " 'only': 66,\n",
              " 'hold': 39,\n",
              " 'spot': 83,\n",
              " 'formats': 29,\n",
              " 'game': 32,\n",
              " 'first': 27,\n",
              " 'player': 67,\n",
              " 'score': 78,\n",
              " 'runs': 77,\n",
              " 'decade': 23,\n",
              " 'council': 18,\n",
              " 'named': 58,\n",
              " 'male': 54}"
            ]
          },
          "metadata": {},
          "execution_count": 48
        }
      ]
    },
    {
      "cell_type": "code",
      "source": [
        "corpus[0]"
      ],
      "metadata": {
        "colab": {
          "base_uri": "https://localhost:8080/",
          "height": 35
        },
        "id": "dn1dpu40jIZO",
        "outputId": "63b2ab9d-96dc-4fa0-f18d-106d6c698c8d"
      },
      "execution_count": 49,
      "outputs": [
        {
          "output_type": "execute_result",
          "data": {
            "text/plain": [
              "' virat kohli  born   november       hindi pronunciation       a     ko   li     is an indian international cricketer and the former captain of the indian national cricket team '"
            ],
            "application/vnd.google.colaboratory.intrinsic+json": {
              "type": "string"
            }
          },
          "metadata": {},
          "execution_count": 49
        }
      ]
    },
    {
      "cell_type": "code",
      "source": [
        "X[0].toarray()"
      ],
      "metadata": {
        "colab": {
          "base_uri": "https://localhost:8080/"
        },
        "id": "LyV5TYZZjLxh",
        "outputId": "9c556224-99bd-44f8-92be-011aec5818e3"
      },
      "execution_count": 50,
      "outputs": [
        {
          "output_type": "execute_result",
          "data": {
            "text/plain": [
              "array([[0, 0, 0, 1, 1, 0, 0, 0, 0, 0, 1, 0, 1, 0, 0, 0, 0, 0, 0, 1, 1, 0,\n",
              "        0, 0, 0, 0, 0, 0, 0, 0, 1, 0, 0, 0, 0, 0, 0, 0, 1, 0, 0, 0, 0, 0,\n",
              "        1, 1, 0, 1, 1, 1, 1, 0, 0, 0, 0, 0, 0, 0, 0, 1, 1, 0, 0, 0, 1, 0,\n",
              "        0, 0, 1, 0, 0, 0, 0, 0, 0, 0, 0, 0, 0, 0, 0, 0, 0, 0, 0, 0, 1, 0,\n",
              "        0, 1, 0, 0, 0, 0, 0, 0, 1, 0, 0, 0, 0, 0]])"
            ]
          },
          "metadata": {},
          "execution_count": 50
        }
      ]
    },
    {
      "cell_type": "code",
      "source": [],
      "metadata": {
        "id": "ch3Ir5kqjPCx"
      },
      "execution_count": null,
      "outputs": []
    }
  ]
}