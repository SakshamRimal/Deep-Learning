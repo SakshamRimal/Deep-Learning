{
 "cells": [
  {
   "cell_type": "markdown",
   "id": "ce5f4301-3fd4-4065-b95b-53908abb05f1",
   "metadata": {},
   "source": [
    "What is deep learning? \n",
    "-Deep learning is the subfield of Aritificial Intelligence and Machine learning that is inspierd by the strucutre of Human Brain.\n",
    "Deep learning is the subfield of Machine Learning.\n",
    "Machine learning algorithm focuses on statistical measures whereas Deep learning fouces on giving logical stucutres called neural network.\n",
    "Types of Neural Network:\n",
    "1. ANN\n",
    "2. CNN\n",
    "3. RNN\n",
    "4. GAN\n",
    "Deep learning le chai input ra output ko relationship find garna kam garxa bhane machine learning le chai aba neural network ko kam garxa"
   ]
  },
  {
   "cell_type": "markdown",
   "id": "5463715b-8a64-432f-9c7e-49106afdaa02",
   "metadata": {},
   "source": [
    "Why is deep learning getting so famous?\n",
    "1. Applicability\n",
    "2. Performance -> state of the art \n"
   ]
  },
  {
   "cell_type": "markdown",
   "id": "cac0d93b-fcf9-46f5-88fe-da0fccf762b6",
   "metadata": {},
   "source": [
    "Deep learning is the part of a broader family of machine learning methods based on the artificial neural netwroks with the representation learning. "
   ]
  },
  {
   "cell_type": "markdown",
   "id": "d5951251-6aa4-4aec-bbda-27e8e0af2edf",
   "metadata": {},
   "source": [
    "1.Representation Learning \n",
    "#### Automatically features extraction garxa deep learning ma aba machine learning ma feature extraction garera garnu parxa hamle representation learning ma chai testo garnu pardena?\n"
   ]
  },
  {
   "attachments": {},
   "cell_type": "markdown",
   "id": "2dcdaad5-b5ec-4abd-87bf-830f5fe05e9b",
   "metadata": {},
   "source": [
    "Deep learning vs Machine Learning \n",
    "1. Data dependenacy ( deep learning need more data it is data hungry)\n",
    "2. Hardware dependency ( hardware ramro chianxa powerful gpu with more memory)\n",
    "3. Training Time (these are complex so traingin time is very high)\n",
    "4. Feature Selection (representation learning ) - automatically feautre extract garxa deep learning ma chai tellai bhanxa representation learning \n",
    "5. Interpretability "
   ]
  },
  {
   "cell_type": "markdown",
   "id": "503463e3-50f4-4170-9967-42f30b382233",
   "metadata": {},
   "source": [
    "Why deep learning so hyped rightnow?\n",
    "1. Datasets (publicly available dataset)\n",
    "2. Hardware (CPU -> GPU)\n",
    "TPU (Tensor Proccessing Unit)\n",
    "3. Frameworks/Libraries - scratch bata garne ekdamai garo hunxa so use of libarary and framework like: pytorch , tensorflow, keras use garne.\n",
    "4. People/Community \n"
   ]
  },
  {
   "cell_type": "markdown",
   "id": "dd01ba64-e19a-41ee-a4ce-a4ea47787102",
   "metadata": {},
   "source": [
    "Transfer Learning - yo bhaneko chai aba hamle aru researcher haru le already banayera rakheko architecture haru use garera garna milxa tellai bhanxa transfer learning \n",
    "##### Architecutres\n",
    "1. Image classification - ResNet\n",
    "2. Text classification (NLP) - BERT\n",
    "3. Image segmet - Unet\n",
    "4. Speech generation - WaveNet"
   ]
  },
  {
   "cell_type": "code",
   "execution_count": null,
   "id": "447823a3-2f08-40b5-9a6b-3a1804549310",
   "metadata": {},
   "outputs": [],
   "source": []
  }
 ],
 "metadata": {
  "kernelspec": {
   "display_name": "Python 3 (ipykernel)",
   "language": "python",
   "name": "python3"
  },
  "language_info": {
   "codemirror_mode": {
    "name": "ipython",
    "version": 3
   },
   "file_extension": ".py",
   "mimetype": "text/x-python",
   "name": "python",
   "nbconvert_exporter": "python",
   "pygments_lexer": "ipython3",
   "version": "3.12.4"
  }
 },
 "nbformat": 4,
 "nbformat_minor": 5
}
