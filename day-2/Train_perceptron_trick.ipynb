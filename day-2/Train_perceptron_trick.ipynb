{
 "cells": [
  {
   "cell_type": "code",
   "execution_count": 2,
   "id": "5cb066eb-7657-4628-8f1e-9b623bdaa648",
   "metadata": {},
   "outputs": [],
   "source": [
    "# tei placement ra csv kai example use garera garda ahile ko lagi"
   ]
  },
  {
   "cell_type": "code",
   "execution_count": null,
   "id": "3ed69c1b-7de2-49bc-ac11-21707ebcc4b4",
   "metadata": {},
   "outputs": [],
   "source": []
  },
  {
   "cell_type": "code",
   "execution_count": null,
   "id": "1d9fb77b-bf5d-4462-b9d3-589aa91cecb0",
   "metadata": {},
   "outputs": [],
   "source": []
  }
 ],
 "metadata": {
  "kernelspec": {
   "display_name": "Python 3 (ipykernel)",
   "language": "python",
   "name": "python3"
  },
  "language_info": {
   "codemirror_mode": {
    "name": "ipython",
    "version": 3
   },
   "file_extension": ".py",
   "mimetype": "text/x-python",
   "name": "python",
   "nbconvert_exporter": "python",
   "pygments_lexer": "ipython3",
   "version": "3.12.4"
  }
 },
 "nbformat": 4,
 "nbformat_minor": 5
}
