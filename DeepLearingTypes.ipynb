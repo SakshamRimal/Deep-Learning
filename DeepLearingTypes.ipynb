{
 "cells": [
  {
   "cell_type": "markdown",
   "id": "4a1bed7e-cbde-4d11-8c76-7440470e8b99",
   "metadata": {},
   "source": [
    "Types of Neural Network:\n",
    "1. MLP (multi layer - perceptron)\n",
    "2. CNN (convulational neural network) - image processing haru ma\n",
    "3. RNN (recurrent neural network)\n",
    "4. Auto Encoders - compress garnu xa image\n",
    "5. Generative Adversial Networks (imagination through program)"
   ]
  },
  {
   "cell_type": "markdown",
   "id": "4c22d844-8fba-412a-a6ea-39161ad4644d",
   "metadata": {},
   "source": [
    "Application areas of deep learning\n",
    "1. Self-driving cars\n",
    "2. Game playing agents\n",
    "3. Virutal Assistants\n",
    "4. Image colorization"
   ]
  },
  {
   "cell_type": "code",
   "execution_count": null,
   "id": "a4b5bbf7-eaf9-45b1-9448-d1b71509be37",
   "metadata": {},
   "outputs": [],
   "source": []
  }
 ],
 "metadata": {
  "kernelspec": {
   "display_name": "Python 3 (ipykernel)",
   "language": "python",
   "name": "python3"
  },
  "language_info": {
   "codemirror_mode": {
    "name": "ipython",
    "version": 3
   },
   "file_extension": ".py",
   "mimetype": "text/x-python",
   "name": "python",
   "nbconvert_exporter": "python",
   "pygments_lexer": "ipython3",
   "version": "3.12.4"
  }
 },
 "nbformat": 4,
 "nbformat_minor": 5
}
