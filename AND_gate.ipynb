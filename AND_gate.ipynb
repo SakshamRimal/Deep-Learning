{
  "cells": [
    {
      "cell_type": "markdown",
      "metadata": {
        "id": "view-in-github",
        "colab_type": "text"
      },
      "source": [
        "<a href=\"https://colab.research.google.com/github/SakshamRimal/Deep-Learning/blob/main/AND_gate.ipynb\" target=\"_parent\"><img src=\"https://colab.research.google.com/assets/colab-badge.svg\" alt=\"Open In Colab\"/></a>"
      ]
    },
    {
      "cell_type": "code",
      "execution_count": 11,
      "id": "d1eb5f2c-9862-48c5-ab9f-b0ee6d227109",
      "metadata": {
        "id": "d1eb5f2c-9862-48c5-ab9f-b0ee6d227109"
      },
      "outputs": [],
      "source": [
        "import numpy as np"
      ]
    },
    {
      "cell_type": "code",
      "execution_count": 12,
      "id": "d9bb1453-740c-4e60-9885-751544e42245",
      "metadata": {
        "id": "d9bb1453-740c-4e60-9885-751544e42245"
      },
      "outputs": [],
      "source": [
        "# activation function\n",
        "def step_function(x):\n",
        "  return 1 if x >= 0 else 0"
      ]
    },
    {
      "cell_type": "code",
      "source": [
        "#perceptron class\n",
        "class Perceptron:\n",
        "  def __init__(self , input_size , learning_rate = 0.1):\n",
        "    self.weights = np.random.rand(input_size)\n",
        "    self.bias = np.random.rand(1)\n",
        "    self.learning_rate = learning_rate\n",
        "  def predict(self , inputs):\n",
        "    weighted_sum = np.dot(inputs , self.weights)+ self.bias\n",
        "    return step_function(weighted_sum)\n",
        "  def train(self, inputs, labels, epochs):\n",
        "        for epoch in range(epochs):\n",
        "            for i in range(len(inputs)):\n",
        "                x = inputs[i]\n",
        "                y = labels[i]\n",
        "                prediction = self.predict(x)\n",
        "                error = y - prediction\n",
        "                self.weights += self.learning_rate * error * x\n",
        "                self.bias += self.learning_rate * error\n",
        "            if epoch % 10 == 0:\n",
        "                print(f\"Epoch {epoch} - Loss: {error}\")\n",
        "\n",
        "\n"
      ],
      "metadata": {
        "id": "7zk49fhdvVlP"
      },
      "id": "7zk49fhdvVlP",
      "execution_count": 21,
      "outputs": []
    },
    {
      "cell_type": "code",
      "source": [
        "X = np.array([[0, 0], [0, 1], [1, 0], [1, 1]])\n",
        "y = np.array([0, 0, 0, 1])\n"
      ],
      "metadata": {
        "id": "COMTm297wd9P"
      },
      "id": "COMTm297wd9P",
      "execution_count": 22,
      "outputs": []
    },
    {
      "cell_type": "code",
      "source": [
        "perceptron = Perceptron(input_size=2, learning_rate=0.1)\n",
        "perceptron.train(X, y, epochs=50)"
      ],
      "metadata": {
        "colab": {
          "base_uri": "https://localhost:8080/"
        },
        "id": "daBp-ucRxJV8",
        "outputId": "e9c736b1-8cdc-42db-faec-2fe8aed436b9"
      },
      "id": "daBp-ucRxJV8",
      "execution_count": 23,
      "outputs": [
        {
          "output_type": "stream",
          "name": "stdout",
          "text": [
            "Epoch 0 - Loss: 0\n",
            "Epoch 10 - Loss: 0\n",
            "Epoch 20 - Loss: 0\n",
            "Epoch 30 - Loss: 0\n",
            "Epoch 40 - Loss: 0\n"
          ]
        }
      ]
    },
    {
      "cell_type": "code",
      "source": [
        "print(\"\\nTesting the perceptron:\")\n",
        "for i in range(len(X)):\n",
        "    y_pred = perceptron.predict(X[i])\n",
        "    print(f\"Input: {X[i]}, Predicted: {y_pred}, True: {y[i]}\")"
      ],
      "metadata": {
        "colab": {
          "base_uri": "https://localhost:8080/"
        },
        "id": "ADSO3RMSxMFx",
        "outputId": "3fa8b46e-a931-4768-facd-f9424592f4ed"
      },
      "id": "ADSO3RMSxMFx",
      "execution_count": 24,
      "outputs": [
        {
          "output_type": "stream",
          "name": "stdout",
          "text": [
            "\n",
            "Testing the perceptron:\n",
            "Input: [0 0], Predicted: 0, True: 0\n",
            "Input: [0 1], Predicted: 0, True: 0\n",
            "Input: [1 0], Predicted: 0, True: 0\n",
            "Input: [1 1], Predicted: 1, True: 1\n"
          ]
        }
      ]
    },
    {
      "cell_type": "code",
      "source": [],
      "metadata": {
        "id": "THLZ7poMxOMf"
      },
      "id": "THLZ7poMxOMf",
      "execution_count": 16,
      "outputs": []
    }
  ],
  "metadata": {
    "kernelspec": {
      "display_name": "Python 3 (ipykernel)",
      "language": "python",
      "name": "python3"
    },
    "language_info": {
      "codemirror_mode": {
        "name": "ipython",
        "version": 3
      },
      "file_extension": ".py",
      "mimetype": "text/x-python",
      "name": "python",
      "nbconvert_exporter": "python",
      "pygments_lexer": "ipython3",
      "version": "3.13.5"
    },
    "colab": {
      "provenance": [],
      "include_colab_link": true
    }
  },
  "nbformat": 4,
  "nbformat_minor": 5
}