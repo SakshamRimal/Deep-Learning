{
  "nbformat": 4,
  "nbformat_minor": 0,
  "metadata": {
    "colab": {
      "provenance": [],
      "authorship_tag": "ABX9TyMbSx34Z/Mgh55021rtXJld",
      "include_colab_link": true
    },
    "kernelspec": {
      "name": "python3",
      "display_name": "Python 3"
    },
    "language_info": {
      "name": "python"
    }
  },
  "cells": [
    {
      "cell_type": "markdown",
      "metadata": {
        "id": "view-in-github",
        "colab_type": "text"
      },
      "source": [
        "<a href=\"https://colab.research.google.com/github/SakshamRimal/Deep-Learning/blob/main/03_Optimizers/Optimizers.ipynb\" target=\"_parent\"><img src=\"https://colab.research.google.com/assets/colab-badge.svg\" alt=\"Open In Colab\"/></a>"
      ]
    },
    {
      "cell_type": "code",
      "execution_count": 1,
      "metadata": {
        "id": "R9ZUxSbhhuca"
      },
      "outputs": [],
      "source": [
        "#---------Gradient Descent vs Stochastic gradient descent-------------------"
      ]
    },
    {
      "cell_type": "code",
      "source": [
        "import numpy as np\n",
        "import pandas as pd\n",
        "import matplotlib.pyplot as plt\n"
      ],
      "metadata": {
        "id": "h-zaVgzsvLmI"
      },
      "execution_count": 2,
      "outputs": []
    },
    {
      "cell_type": "code",
      "source": [
        "np.random.seed(0)\n",
        "# sequence of random number will be same everytime we run the program\n"
      ],
      "metadata": {
        "id": "G-xhYrJgvQdq"
      },
      "execution_count": 4,
      "outputs": []
    },
    {
      "cell_type": "code",
      "source": [
        "X = 2 * np.random.rand(100, 1)\n",
        "y = 4 + 3 * X + np.random.randn(100, 1)*0.5"
      ],
      "metadata": {
        "id": "SYeWBdrgvS3-"
      },
      "execution_count": 13,
      "outputs": []
    },
    {
      "cell_type": "code",
      "source": [
        "y"
      ],
      "metadata": {
        "colab": {
          "base_uri": "https://localhost:8080/"
        },
        "id": "evLATrdqwbY4",
        "outputId": "40140987-4909-4c1a-e597-b372ea7eb40e"
      },
      "execution_count": 15,
      "outputs": [
        {
          "output_type": "execute_result",
          "data": {
            "text/plain": [
              "array([[ 3.61201392],\n",
              "       [ 3.86024416],\n",
              "       [ 5.63093872],\n",
              "       [ 5.04786236],\n",
              "       [ 5.52428387],\n",
              "       [ 4.59927768],\n",
              "       [ 4.50555098],\n",
              "       [ 9.30246857],\n",
              "       [ 5.61571357],\n",
              "       [ 6.60459524],\n",
              "       [ 8.97896363],\n",
              "       [ 6.54745291],\n",
              "       [ 4.8080838 ],\n",
              "       [ 5.04645199],\n",
              "       [ 6.41033168],\n",
              "       [ 6.55630644],\n",
              "       [ 6.18831135],\n",
              "       [ 9.52434912],\n",
              "       [ 8.47806338],\n",
              "       [ 9.56257832],\n",
              "       [ 3.83006578],\n",
              "       [ 9.31541047],\n",
              "       [ 6.58849594],\n",
              "       [ 9.08511375],\n",
              "       [ 7.91780664],\n",
              "       [10.12572481],\n",
              "       [ 8.09669233],\n",
              "       [ 6.31351607],\n",
              "       [ 7.41653994],\n",
              "       [ 6.9383092 ],\n",
              "       [ 6.14428001],\n",
              "       [ 6.24922562],\n",
              "       [ 7.49302672],\n",
              "       [ 7.59233335],\n",
              "       [ 5.05507237],\n",
              "       [ 6.99379705],\n",
              "       [ 5.21874951],\n",
              "       [ 4.92292822],\n",
              "       [ 3.98050935],\n",
              "       [10.60051025],\n",
              "       [ 4.16661435],\n",
              "       [ 3.91118267],\n",
              "       [ 7.83578083],\n",
              "       [ 4.7482379 ],\n",
              "       [ 9.40418335],\n",
              "       [ 8.542577  ],\n",
              "       [ 9.76470202],\n",
              "       [ 6.38661535],\n",
              "       [ 5.6170701 ],\n",
              "       [ 6.82419554],\n",
              "       [ 9.11854185],\n",
              "       [ 6.49303445],\n",
              "       [ 5.82948674],\n",
              "       [ 9.31334081],\n",
              "       [ 6.00742981],\n",
              "       [ 3.68363114],\n",
              "       [ 5.47439858],\n",
              "       [ 6.44899842],\n",
              "       [ 8.15055695],\n",
              "       [ 6.93945726],\n",
              "       [ 6.39466774],\n",
              "       [ 5.07432068],\n",
              "       [ 8.3112172 ],\n",
              "       [ 9.21376891],\n",
              "       [10.06109675],\n",
              "       [ 6.45697907],\n",
              "       [ 9.32739389],\n",
              "       [ 9.25978791],\n",
              "       [ 8.76562663],\n",
              "       [ 5.66738017],\n",
              "       [ 5.00304223],\n",
              "       [ 5.55849654],\n",
              "       [ 9.91423751],\n",
              "       [ 6.19816368],\n",
              "       [ 6.39033364],\n",
              "       [ 5.54646975],\n",
              "       [ 9.72742508],\n",
              "       [ 8.25997057],\n",
              "       [ 4.81655217],\n",
              "       [ 7.75179884],\n",
              "       [ 9.22241771],\n",
              "       [ 9.38282307],\n",
              "       [ 3.86328427],\n",
              "       [ 4.04946662],\n",
              "       [ 5.55884075],\n",
              "       [ 4.99752928],\n",
              "       [ 6.37485329],\n",
              "       [ 4.24838807],\n",
              "       [ 7.50828921],\n",
              "       [ 6.02030925],\n",
              "       [ 6.85612829],\n",
              "       [ 4.09988236],\n",
              "       [ 9.46096858],\n",
              "       [10.14268641],\n",
              "       [ 6.46819239],\n",
              "       [ 6.51914827],\n",
              "       [ 5.97061214],\n",
              "       [ 6.88281362],\n",
              "       [ 4.87249573],\n",
              "       [ 7.94397914]])"
            ]
          },
          "metadata": {},
          "execution_count": 15
        }
      ]
    },
    {
      "cell_type": "code",
      "source": [
        "X"
      ],
      "metadata": {
        "colab": {
          "base_uri": "https://localhost:8080/"
        },
        "id": "7df_3jP2v4Um",
        "outputId": "5a8af50b-a118-442b-b301-e28cd6002fa0"
      },
      "execution_count": 14,
      "outputs": [
        {
          "output_type": "execute_result",
          "data": {
            "text/plain": [
              "array([[0.16106401],\n",
              "       [0.17062185],\n",
              "       [0.44279289],\n",
              "       [0.20002812],\n",
              "       [0.5300794 ],\n",
              "       [0.13229892],\n",
              "       [0.13120973],\n",
              "       [1.71255236],\n",
              "       [0.32424052],\n",
              "       [1.11936481],\n",
              "       [1.54691109],\n",
              "       [0.91281913],\n",
              "       [0.30673776],\n",
              "       [0.39919228],\n",
              "       [0.86596841],\n",
              "       [1.05646818],\n",
              "       [0.69888058],\n",
              "       [1.5629592 ],\n",
              "       [1.5020433 ],\n",
              "       [1.85442361],\n",
              "       [0.0579051 ],\n",
              "       [1.79138258],\n",
              "       [0.78513758],\n",
              "       [1.75674499],\n",
              "       [1.38156955],\n",
              "       [1.97469751],\n",
              "       [1.5185649 ],\n",
              "       [0.72908925],\n",
              "       [1.00212635],\n",
              "       [0.75277831],\n",
              "       [0.72982367],\n",
              "       [0.521809  ],\n",
              "       [0.99194059],\n",
              "       [1.36347989],\n",
              "       [0.55468054],\n",
              "       [1.04875962],\n",
              "       [0.23476059],\n",
              "       [0.31969057],\n",
              "       [0.09361271],\n",
              "       [1.94146289],\n",
              "       [0.0077207 ],\n",
              "       [0.35715994],\n",
              "       [1.22573351],\n",
              "       [0.1627392 ],\n",
              "       [1.76379301],\n",
              "       [1.43924032],\n",
              "       [1.93277994],\n",
              "       [1.01527109],\n",
              "       [0.60080737],\n",
              "       [1.09900115],\n",
              "       [1.86163743],\n",
              "       [1.04152287],\n",
              "       [0.53441406],\n",
              "       [1.75479758],\n",
              "       [0.7438375 ],\n",
              "       [0.0027667 ],\n",
              "       [0.49537004],\n",
              "       [0.63646702],\n",
              "       [1.71755494],\n",
              "       [0.91700633],\n",
              "       [0.88917458],\n",
              "       [0.67220453],\n",
              "       [1.76135625],\n",
              "       [1.89005355],\n",
              "       [1.98378066],\n",
              "       [0.75348253],\n",
              "       [1.93229489],\n",
              "       [1.58375914],\n",
              "       [1.3513783 ],\n",
              "       [0.48977896],\n",
              "       [0.43291452],\n",
              "       [0.33209565],\n",
              "       [1.84551322],\n",
              "       [0.58815332],\n",
              "       [0.90618849],\n",
              "       [0.98791567],\n",
              "       [1.55634319],\n",
              "       [1.68846992],\n",
              "       [0.2781454 ],\n",
              "       [0.85380872],\n",
              "       [1.68570978],\n",
              "       [1.63606661],\n",
              "       [0.20482752],\n",
              "       [0.3127667 ],\n",
              "       [0.60839738],\n",
              "       [0.15071814],\n",
              "       [0.84932601],\n",
              "       [0.21523541],\n",
              "       [1.13643519],\n",
              "       [0.49311388],\n",
              "       [1.19286613],\n",
              "       [0.23505129],\n",
              "       [1.95176774],\n",
              "       [1.86512241],\n",
              "       [0.78359388],\n",
              "       [0.48435719],\n",
              "       [0.50079643],\n",
              "       [0.96678707],\n",
              "       [0.0799856 ],\n",
              "       [1.27941021]])"
            ]
          },
          "metadata": {},
          "execution_count": 14
        }
      ]
    },
    {
      "cell_type": "code",
      "source": [
        "theta = np.random.randn(2,1)\n",
        "lr = 0.1\n",
        "epochs = 1000\n",
        "\n",
        "X_b = np.c_[np.ones((100, 1)), X]\n",
        "for epoch in range(epochs):\n",
        "  gradients = 2/100 * X_b.T.dot(X_b.dot(theta) - y)\n",
        "  theta -= lr * gradients\n",
        "\n",
        "print(\"Batch GD parameters:\", theta.ravel())\n"
      ],
      "metadata": {
        "colab": {
          "base_uri": "https://localhost:8080/"
        },
        "id": "qukOpSZxv-Qv",
        "outputId": "ced23fb4-b36c-4aeb-c37f-0d54906a3d38"
      },
      "execution_count": 17,
      "outputs": [
        {
          "output_type": "stream",
          "name": "stdout",
          "text": [
            "Batch GD parameters: [3.97517639 2.9985928 ]\n"
          ]
        }
      ]
    },
    {
      "cell_type": "code",
      "source": [
        "theta_sgd = np.random.randn(2, 1)\n",
        "lr = 0.1\n",
        "epochs = 10\n",
        "\n",
        "for epoch in range(epochs):\n",
        "    for i in range(100):\n",
        "        rand_index = np.random.randint(100)\n",
        "        xi = X_b[rand_index:rand_index+1]\n",
        "        yi = y[rand_index:rand_index+1]\n",
        "        gradients = 2 * xi.T.dot(xi.dot(theta_sgd) - yi)\n",
        "        theta_sgd -= lr * gradients\n",
        "\n",
        "print(\"Stochastic GD parameters:\", theta_sgd.ravel())\n"
      ],
      "metadata": {
        "colab": {
          "base_uri": "https://localhost:8080/"
        },
        "id": "cfcM1wjdw_Yb",
        "outputId": "80bdc8d0-3a4c-4ee6-e42d-5447f500b543"
      },
      "execution_count": 18,
      "outputs": [
        {
          "output_type": "stream",
          "name": "stdout",
          "text": [
            "Stochastic GD parameters: [4.11386614 3.45021407]\n"
          ]
        }
      ]
    },
    {
      "cell_type": "code",
      "source": [
        "plt.scatter(X, y, label=\"Data\")\n",
        "x_plot = np.linspace(0, 2, 100)\n",
        "y_gd = theta[0] + theta[1] * x_plot\n",
        "y_sgd = theta_sgd[0] + theta_sgd[1] * x_plot\n",
        "plt.plot(x_plot, y_gd, 'r-', label=\"Batch GD\")\n",
        "plt.plot(x_plot, y_sgd, 'g--', label=\"SGD\")\n",
        "plt.legend()\n",
        "plt.title(\"Batch Gradient Descent vs Stochastic Gradient Descent\")\n",
        "plt.show()\n"
      ],
      "metadata": {
        "colab": {
          "base_uri": "https://localhost:8080/",
          "height": 452
        },
        "id": "QdkOj-pCxFCM",
        "outputId": "63345d54-72bb-48f4-d28a-bdeb09d955e7"
      },
      "execution_count": 19,
      "outputs": [
        {
          "output_type": "display_data",
          "data": {
            "text/plain": [
              "<Figure size 640x480 with 1 Axes>"
            ],
            "image/png": "[encoded data removed]"
          },
          "metadata": {}
        }
      ]
    },
    {
      "cell_type": "code",
      "source": [],
      "metadata": {
        "id": "JPblQmKvxGnm"
      },
      "execution_count": null,
      "outputs": []
    }
  ]
}